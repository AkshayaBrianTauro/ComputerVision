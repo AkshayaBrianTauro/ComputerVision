{
  "nbformat": 4,
  "nbformat_minor": 0,
  "metadata": {
    "colab": {
      "provenance": [],
      "include_colab_link": true
    },
    "kernelspec": {
      "name": "python3",
      "display_name": "Python 3"
    },
    "language_info": {
      "name": "python"
    }
  },
  "cells": [
    {
      "cell_type": "markdown",
      "metadata": {
        "id": "view-in-github",
        "colab_type": "text"
      },
      "source": [
        "<a href=\"https://colab.research.google.com/github/AkshayaBrianTauro/ComputerVision/blob/master/src/create_mask_for_oral_cancer_images.ipynb\" target=\"_parent\"><img src=\"https://colab.research.google.com/assets/colab-badge.svg\" alt=\"Open In Colab\"/></a>"
      ]
    },
    {
      "cell_type": "markdown",
      "source": [],
      "metadata": {
        "id": "lYDqTgB_yz3R"
      }
    },
    {
      "cell_type": "code",
      "source": [
        "from google.colab import drive\n",
        "drive.mount('/content/drive')"
      ],
      "metadata": {
        "colab": {
          "base_uri": "https://localhost:8080/"
        },
        "id": "s1Ph_ME6HFAa",
        "outputId": "4ff67590-2e90-477e-fbc8-16a1bd8d3d2f"
      },
      "execution_count": null,
      "outputs": [
        {
          "output_type": "stream",
          "name": "stdout",
          "text": [
            "Mounted at /content/drive\n"
          ]
        }
      ]
    },
    {
      "cell_type": "markdown",
      "source": [
        "Annotated Oral Cancer dataset from kaggle using VGG Image Annotator Tool, and .json file was exported to know all the x and y points to create mask.\n",
        "\n",
        "Link for the original Oral cancer images: https://www.kaggle.com/datasets/shivam17299/oral-cancer-lips-and-tongue-images"
      ],
      "metadata": {
        "id": "HKuDplkjy3uf"
      }
    },
    {
      "cell_type": "code",
      "source": [
        "f_ef = open(\"/content/drive/MyDrive/CS 512 Computer Vision/CS512_final_course_project/data/oral cancer/JSON files for x and y coordinates/oral_cancer_mask_ef.json\")\n",
        "f_ab = open(\"/content/drive/MyDrive/CS 512 Computer Vision/CS512_final_course_project/data/oral cancer/JSON files for x and y coordinates/oral_cancer_mask_ab.json\")"
      ],
      "metadata": {
        "id": "XpLcHY8PMIE-"
      },
      "execution_count": null,
      "outputs": []
    },
    {
      "cell_type": "code",
      "execution_count": null,
      "metadata": {
        "id": "rHqYmkGLGslB"
      },
      "outputs": [],
      "source": [
        "import numpy as np;\n",
        "import cv2\n",
        "import json\n",
        "\n",
        "def create_masks(f):\n",
        "   data = json.load(f)\n",
        "   print(data)\n",
        "\n",
        "   data = data[\"_via_img_metadata\"]\n",
        "\n",
        "   img_dir = \"/content/drive/MyDrive/CS 512 Computer Vision/CS512_final_course_project/data/oral cancer/cancer\"\n",
        "   mask_dir = \"/content/drive/MyDrive/CS 512 Computer Vision/CS512_final_course_project/data/oral cancer/masks\"\n",
        "\n",
        "\n",
        "   for key, value in data.items():\n",
        "       filename = value[\"filename\"]\n",
        "       print(filename)\n",
        "       img_path = f\"{img_dir}/{filename}\"\n",
        "       print(img_path)\n",
        "\n",
        "       img = cv2.imread(img_path,-1)\n",
        "       h,w, _ = img.shape\n",
        "       print(h, w)\n",
        "       mask = np.zeros((h,w))\n",
        "\n",
        "       regions = value[\"regions\"]\n",
        "       for region in regions:\n",
        "           shape_attributes = region[\"shape_attributes\"]\n",
        "           print(shape_attributes) #dictionary structure of the shape attribute, which contains name, x and y points\n",
        "           x_points = shape_attributes[\"all_points_x\"]\n",
        "           y_points = shape_attributes[\"all_points_y\"]\n",
        "           # To draw points in the black image\n",
        "\n",
        "           contours = []\n",
        "           for x, y in zip(x_points, y_points):\n",
        "               # print(x,y)\n",
        "               contours.append((x,y))\n",
        "           contours = np.array(contours)\n",
        "           # print(contours)\n",
        "\n",
        "           #255 represents white\n",
        "           cv2.drawContours(mask, [contours], -1,  255, -1)\n",
        "\n",
        "       print(mask_dir)\n",
        "       ##with the blank/black image represents the background class, and background class has the pixel value of zero\n",
        "       cv2.imwrite(f\"{mask_dir}/{filename}\", mask)"
      ]
    },
    {
      "cell_type": "markdown",
      "source": [
        "Run below only if you want to create masks\n",
        "\n",
        "Note:\n",
        "- Created masks are presents in the data folder data/oral cancer/masks\n",
        "- downloaded and unzipped images are in the data folder data/oral cancer/cancer"
      ],
      "metadata": {
        "id": "8emW57T3ztVJ"
      }
    },
    {
      "cell_type": "code",
      "source": [
        "create_masks(f_ef)\n",
        "create_masks(f_ab)"
      ],
      "metadata": {
        "id": "qg_ZxgRpe5Q9",
        "colab": {
          "base_uri": "https://localhost:8080/"
        },
        "outputId": "eb82880d-7604-4c62-ee20-c2e48c5fa338"
      },
      "execution_count": null,
      "outputs": [
        {
          "output_type": "stream",
          "name": "stdout",
          "text": [
            "{'_via_settings': {'ui': {'annotation_editor_height': 25, 'annotation_editor_fontsize': 0.8, 'leftsidebar_width': 18, 'image_grid': {'img_height': 80, 'rshape_fill': 'none', 'rshape_fill_opacity': 0.3, 'rshape_stroke': 'yellow', 'rshape_stroke_width': 2, 'show_region_shape': True, 'show_image_policy': 'all'}, 'image': {'region_label': '__via_region_id__', 'region_color': '__via_default_region_color__', 'region_label_font': '10px Sans', 'on_image_annotation_editor_placement': 'NEAR_REGION'}}, 'core': {'buffer_size': 18, 'filepath': {}, 'default_filepath': ''}, 'project': {'name': 'oral_cancer_mask_ef'}}, '_via_img_metadata': {'image1.jpg49714': {'filename': 'image1.jpg', 'size': 49714, 'regions': [{'shape_attributes': {'name': 'polygon', 'all_points_x': [42, 59, 101, 130, 136, 154, 162, 183, 191, 205, 218, 225, 236, 227, 239, 236, 231, 220, 222, 182, 142, 104, 56, 47, 24, 18, 34, 50], 'all_points_y': [131, 147, 152, 151, 143, 140, 160, 155, 143, 122, 123, 136, 153, 173, 193, 208, 217, 222, 229, 235, 251, 261, 251, 243, 191, 161, 143, 139]}, 'region_attributes': {'name': 'tongue\\n'}}], 'file_attributes': {}}, 'image2.jpg56143': {'filename': 'image2.jpg', 'size': 56143, 'regions': [{'shape_attributes': {'name': 'polygon', 'all_points_x': [463, 521, 560, 611, 632, 641, 645, 644, 631, 611, 606, 597, 578, 559, 545, 519, 500, 488, 476, 463], 'all_points_y': [342, 333, 339, 355, 368, 387, 407, 413, 408, 402, 420, 428, 432, 423, 411, 410, 402, 377, 363, 342]}, 'region_attributes': {'name': 'lips'}}], 'file_attributes': {}}, 'image3.jpg90779': {'filename': 'image3.jpg', 'size': 90779, 'regions': [{'shape_attributes': {'name': 'polygon', 'all_points_x': [664, 666, 645, 631, 624, 614, 595, 578, 565, 572, 579, 583, 596, 618, 639, 656, 662], 'all_points_y': [627, 639, 632, 635, 635, 627, 628, 635, 641, 609, 585, 568, 560, 550, 557, 574, 597]}, 'region_attributes': {'name': ''}}], 'file_attributes': {}}, 'image4.jpg14340': {'filename': 'image4.jpg', 'size': 14340, 'regions': [{'shape_attributes': {'name': 'polygon', 'all_points_x': [162, 120, 105, 103, 125, 149, 172, 190, 195, 201, 202, 197, 197, 185, 165], 'all_points_y': [115, 128, 153, 165, 169, 166, 171, 180, 183, 163, 155, 146, 132, 121, 111]}, 'region_attributes': {'name': 'tongue\\n'}}], 'file_attributes': {}}, 'image5.jpg133937': {'filename': 'image5.jpg', 'size': 133937, 'regions': [{'shape_attributes': {'name': 'polygon', 'all_points_x': [482, 601, 643, 649, 662, 657, 632, 618, 602, 582, 553, 528, 506, 488, 471, 462, 492], 'all_points_y': [314, 267, 318, 371, 404, 426, 451, 479, 490, 484, 457, 447, 437, 410, 366, 320, 310]}, 'region_attributes': {'name': 'tongue\\n'}}], 'file_attributes': {}}, 'image6.jpg257318': {'filename': 'image6.jpg', 'size': 257318, 'regions': [{'shape_attributes': {'name': 'polygon', 'all_points_x': [250, 215, 172, 133, 99, 46, 45, 27, 26, 24, 47, 46, 58, 82, 91, 106, 126, 138, 150, 158, 170, 187, 205, 250, 252, 247, 250], 'all_points_y': [133, 108, 107, 114, 130, 195, 211, 211, 255, 266, 282, 303, 319, 320, 315, 317, 310, 303, 300, 303, 292, 284, 275, 216, 201, 177, 134]}, 'region_attributes': {'name': 'tongue\\n'}}], 'file_attributes': {}}, 'image7.jpg15920': {'filename': 'image7.jpg', 'size': 15920, 'regions': [{'shape_attributes': {'name': 'polygon', 'all_points_x': [36, 72, 105, 130, 134, 140, 140, 138, 141, 148, 135, 121, 106, 88, 76, 61, 56, 42, 37], 'all_points_y': [77, 54, 44, 42, 59, 71, 78, 99, 119, 131, 131, 127, 130, 127, 129, 132, 130, 98, 78]}, 'region_attributes': {'name': 'tongue\\n'}}], 'file_attributes': {}}, 'image8.jpg83251': {'filename': 'image8.jpg', 'size': 83251, 'regions': [{'shape_attributes': {'name': 'polygon', 'all_points_x': [514, 454, 430, 385, 375, 390, 390, 377, 300, 288, 244, 231, 221, 231, 270, 305, 338, 367, 393, 420, 439, 435, 442, 462, 492, 492, 506, 517, 514], 'all_points_y': [680, 628, 621, 628, 633, 645, 655, 653, 655, 661, 695, 713, 747, 767, 777, 779, 775, 767, 775, 775, 777, 755, 743, 737, 727, 708, 695, 681, 681]}, 'region_attributes': {'name': 'gum\\n'}}], 'file_attributes': {}}, 'image9.jpg326528': {'filename': 'image9.jpg', 'size': 326528, 'regions': [{'shape_attributes': {'name': 'polygon', 'all_points_x': [328, 323, 314, 296, 264, 237, 215, 206, 210, 221, 236, 242, 261, 287, 315, 334, 327], 'all_points_y': [227, 210, 199, 191, 198, 206, 205, 214, 225, 235, 239, 251, 263, 269, 264, 258, 226]}, 'region_attributes': {'name': 'tongue\\n'}}], 'file_attributes': {}}, 'image10.jpg58054': {'filename': 'image10.jpg', 'size': 58054, 'regions': [{'shape_attributes': {'name': 'polygon', 'all_points_x': [607, 520, 456, 421, 404, 382, 372, 313, 272, 246, 240, 227, 229, 229, 235, 253, 259, 272, 292, 333, 374, 406, 425, 488, 540, 579, 605], 'all_points_y': [553, 557, 557, 549, 505, 384, 350, 337, 326, 385, 445, 494, 536, 562, 579, 602, 650, 676, 713, 736, 732, 721, 698, 669, 659, 603, 557]}, 'region_attributes': {'name': 'tongue\\n'}}], 'file_attributes': {}}, 'image11.jpg176338': {'filename': 'image11.jpg', 'size': 176338, 'regions': [{'shape_attributes': {'name': 'polygon', 'all_points_x': [197, 218, 244, 286, 305, 347, 392, 411, 430, 434, 387, 354, 307, 267, 228, 214, 202, 195], 'all_points_y': [185, 155, 140, 132, 132, 144, 183, 224, 248, 263, 298, 335, 325, 315, 277, 252, 215, 189]}, 'region_attributes': {'name': 'tongue\\n'}}], 'file_attributes': {}}, 'image12.jpg4071097': {'filename': 'image12.jpg', 'size': 4071097, 'regions': [{'shape_attributes': {'name': 'polygon', 'all_points_x': [412, 601, 699, 765, 866, 966, 1130, 1221, 1438, 1643, 1832, 2077, 2184, 2367, 2465, 2628, 2660, 2688, 2808, 2930, 2990, 2943, 2927, 2852, 2663, 2565, 2386, 2263, 1026, 847, 557, 507, 475, 365, 170, 186, 409], 'all_points_y': [82, 375, 516, 589, 689, 768, 891, 957, 1051, 1105, 1130, 1048, 995, 853, 702, 431, 261, 120, 201, 261, 305, 516, 718, 1001, 1328, 1467, 1599, 1615, 1618, 1492, 1287, 1187, 1026, 891, 444, 283, 82]}, 'region_attributes': {'name': 'lips\\n'}}], 'file_attributes': {}}, 'image13.jpg43120': {'filename': 'image13.jpg', 'size': 43120, 'regions': [{'shape_attributes': {'name': 'polygon', 'all_points_x': [262, 319, 350, 384, 406, 447, 498, 506, 450, 422, 388, 345, 304, 289, 270, 261], 'all_points_y': [267, 262, 271, 272, 294, 289, 279, 292, 341, 355, 365, 354, 335, 315, 319, 269]}, 'region_attributes': {'name': 'tongue\\n'}}], 'file_attributes': {}}, 'image14.jpg1746971': {'filename': 'image14.jpg', 'size': 1746971, 'regions': [{'shape_attributes': {'name': 'polygon', 'all_points_x': [1805, 1682, 1641, 1600, 1553, 1500, 1395, 1330, 1360, 1283, 1190, 1207, 1184, 1160, 1207, 1348, 1500, 1664, 1787, 1864, 1934, 1934, 1869, 1799], 'all_points_y': [1201, 1231, 1307, 1354, 1330, 1319, 1371, 1442, 1524, 1547, 1600, 1717, 1834, 1928, 2022, 2039, 2034, 1998, 1928, 1799, 1653, 1500, 1324, 1190]}, 'region_attributes': {'name': 'tongue'}}], 'file_attributes': {}}, 'image15.jpg264426': {'filename': 'image15.jpg', 'size': 264426, 'regions': [{'shape_attributes': {'name': 'polygon', 'all_points_x': [321, 275, 248, 215, 184, 166, 182, 191, 196, 216, 259, 294, 346, 395, 426, 447, 454, 439, 420, 392, 338, 322], 'all_points_y': [160, 180, 189, 222, 255, 283, 311, 346, 379, 391, 391, 378, 356, 331, 293, 268, 239, 191, 178, 163, 159, 160]}, 'region_attributes': {'name': 'tongue\\n'}}], 'file_attributes': {}}, 'image16.jpg76489': {'filename': 'image16.jpg', 'size': 76489, 'regions': [{'shape_attributes': {'name': 'polygon', 'all_points_x': [140, 179, 221, 260, 275, 302, 318, 342, 416, 443, 452, 447, 430, 348, 297, 238, 197, 158, 139, 124, 124, 141], 'all_points_y': [252, 227, 224, 240, 262, 269, 270, 326, 397, 398, 414, 441, 496, 523, 522, 506, 484, 442, 404, 353, 293, 251]}, 'region_attributes': {'name': 'tongue\\n'}}], 'file_attributes': {}}, 'image17.jpg137547': {'filename': 'image17.jpg', 'size': 137547, 'regions': [{'shape_attributes': {'name': 'polygon', 'all_points_x': [556, 498, 385, 376, 346, 331, 417, 472, 461, 441, 467, 470, 454, 467, 465, 483, 480, 496, 495, 515, 532, 554], 'all_points_y': [734, 753, 708, 623, 515, 457, 379, 405, 459, 474, 491, 513, 524, 543, 569, 578, 601, 617, 653, 664, 690, 731]}, 'region_attributes': {'name': 'teeth\\n'}}], 'file_attributes': {}}, 'image18.jpg84944': {'filename': 'image18.jpg', 'size': 84944, 'regions': [{'shape_attributes': {'name': 'polygon', 'all_points_x': [166, 248, 266, 301, 342, 342, 362, 390, 390, 394, 402, 406, 406, 390, 358, 289, 258, 225, 191, 186, 175, 166, 166], 'all_points_y': [114, 95, 109, 123, 127, 115, 113, 118, 131, 156, 195, 222, 246, 257, 263, 248, 235, 216, 189, 175, 159, 139, 115]}, 'region_attributes': {'name': 'tongue\\n'}}], 'file_attributes': {}}, 'image19.jpg1219000': {'filename': 'image19.jpg', 'size': 1219000, 'regions': [{'shape_attributes': {'name': 'polygon', 'all_points_x': [214, 262, 322, 339, 390, 433, 464, 468, 462, 419, 338, 312, 286, 241, 214, 190, 184, 221], 'all_points_y': [422, 446, 479, 489, 494, 516, 547, 600, 647, 649, 644, 615, 582, 562, 546, 511, 466, 422]}, 'region_attributes': {'name': 'lip\\n'}}], 'file_attributes': {}}, 'image20.jpg135928': {'filename': 'image20.jpg', 'size': 135928, 'regions': [{'shape_attributes': {'name': 'polygon', 'all_points_x': [200, 200, 215, 237, 260, 282, 286, 282, 226, 198], 'all_points_y': [277, 255, 243, 240, 226, 234, 257, 289, 291, 288]}, 'region_attributes': {'name': 'Teeth\\n'}}, {'shape_attributes': {'name': 'polygon', 'all_points_x': [331, 334, 393, 449, 441, 413, 341], 'all_points_y': [286, 232, 240, 259, 283, 296, 289]}, 'region_attributes': {'name': 'Teeth'}}, {'shape_attributes': {'name': 'polygon', 'all_points_x': [229, 197, 183, 192, 201, 235, 282, 350, 395, 426, 444, 449, 427, 393, 378, 337, 307, 276, 254, 243, 235], 'all_points_y': [192, 190, 212, 163, 132, 104, 88, 81, 90, 124, 159, 178, 180, 128, 113, 115, 113, 110, 124, 146, 186]}, 'region_attributes': {'name': 'Teeth\\n'}}], 'file_attributes': {}}, 'image21.jpg94308': {'filename': 'image21.jpg', 'size': 94308, 'regions': [{'shape_attributes': {'name': 'polygon', 'all_points_x': [306, 332, 324, 317, 339, 381, 410, 422, 418, 389, 372, 342, 312], 'all_points_y': [191, 223, 243, 268, 287, 288, 286, 268, 257, 231, 227, 214, 190]}, 'region_attributes': {'name': 'tongue\\n'}}], 'file_attributes': {}}, 'image22.jpg49714': {'filename': 'image22.jpg', 'size': 49714, 'regions': [{'shape_attributes': {'name': 'polygon', 'all_points_x': [94, 118, 143, 155, 163, 187, 203, 248, 249, 246, 228, 232, 231, 224, 236, 242, 234, 222, 188, 175, 147, 126, 91, 66, 49, 37, 21, 17, 39, 51, 45, 43, 54, 73, 91], 'all_points_y': [64, 59, 60, 67, 75, 71, 67, 89, 102, 117, 118, 139, 159, 174, 185, 200, 210, 223, 227, 236, 250, 255, 260, 254, 246, 223, 188, 158, 142, 138, 130, 119, 103, 81, 67]}, 'region_attributes': {'name': 'tongue\\n'}}], 'file_attributes': {}}, 'image23.jpg133937': {'filename': 'image23.jpg', 'size': 133937, 'regions': [{'shape_attributes': {'name': 'polygon', 'all_points_x': [479, 529, 585, 617, 636, 658, 688, 709, 741, 748, 714, 681, 657, 632, 601, 563, 532, 506, 482, 468, 459, 480], 'all_points_y': [310, 291, 272, 259, 306, 356, 406, 473, 548, 589, 598, 591, 564, 517, 489, 455, 447, 435, 404, 371, 333, 314]}, 'region_attributes': {'name': 'tongue\\n'}}], 'file_attributes': {}}, 'image24.jpg133937': {'filename': 'image24.jpg', 'size': 133937, 'regions': [{'shape_attributes': {'name': 'polygon', 'all_points_x': [482, 555, 602, 657, 677, 711, 730, 742, 741, 697, 676, 656, 626, 596, 583, 539, 506, 488, 469, 465, 492], 'all_points_y': [319, 281, 263, 333, 379, 453, 523, 588, 605, 602, 602, 551, 525, 488, 464, 450, 433, 406, 359, 319, 311]}, 'region_attributes': {'name': 'tongue\\n'}}], 'file_attributes': {}}, 'image25.jpg146115': {'filename': 'image25.jpg', 'size': 146115, 'regions': [{'shape_attributes': {'name': 'polygon', 'all_points_x': [252, 302, 325, 367, 390, 421, 458, 455, 432, 409, 402, 375, 364, 326, 283, 258], 'all_points_y': [258, 220, 196, 165, 173, 184, 221, 232, 233, 243, 251, 258, 253, 257, 256, 259]}, 'region_attributes': {'name': 'tongue\\n'}}], 'file_attributes': {}}, 'image26.jpg597187': {'filename': 'image26.jpg', 'size': 597187, 'regions': [{'shape_attributes': {'name': 'polygon', 'all_points_x': [10, 99, 180, 265, 395, 588, 635, 698, 775, 840, 881, 952, 982, 983, 974, 964, 905, 855, 825, 754, 699, 645, 572, 494, 435, 384, 329, 233, 142, 33, 7], 'all_points_y': [247, 282, 319, 396, 413, 452, 312, 233, 184, 182, 192, 264, 376, 471, 541, 569, 587, 619, 633, 624, 651, 656, 662, 682, 699, 700, 669, 619, 557, 501, 467]}, 'region_attributes': {'name': 'tongue\\n'}}], 'file_attributes': {}}, 'image27.jpg28567': {'filename': 'image27.jpg', 'size': 28567, 'regions': [{'shape_attributes': {'name': 'polygon', 'all_points_x': [268, 223, 182, 136, 125, 104, 81, 63, 31, 16, 19, 39, 77, 138, 191, 255, 278], 'all_points_y': [62, 63, 65, 71, 59, 58, 67, 93, 120, 136, 155, 171, 171, 160, 147, 109, 82]}, 'region_attributes': {'name': 'tongue\\n'}}], 'file_attributes': {}}, 'image28.jpg15920': {'filename': 'image28.jpg', 'size': 15920, 'regions': [{'shape_attributes': {'name': 'polygon', 'all_points_x': [250, 241, 199, 193, 170, 137, 122, 111, 95, 81, 74, 60, 52, 53, 58, 82, 104, 143, 246], 'all_points_y': [120, 134, 144, 157, 155, 144, 140, 134, 137, 136, 129, 129, 125, 117, 111, 102, 103, 101, 120]}, 'region_attributes': {'name': 'tongue\\n'}}], 'file_attributes': {}}, 'image29.jpg90227': {'filename': 'image29.jpg', 'size': 90227, 'regions': [{'shape_attributes': {'name': 'polygon', 'all_points_x': [1091, 1114, 1153, 1137, 1092, 1045, 986, 940, 874, 828, 811, 774, 696, 643, 555, 486, 469, 405, 381, 401, 377, 390, 434, 473, 490, 529, 575, 633, 684, 743, 780, 812, 866, 924], 'all_points_y': [320, 331, 329, 353, 400, 440, 507, 542, 556, 537, 526, 533, 543, 550, 547, 559, 523, 515, 475, 453, 440, 409, 348, 303, 343, 327, 333, 338, 343, 337, 348, 372, 364, 343]}, 'region_attributes': {'name': 'tongue\\n'}}], 'file_attributes': {}}, 'image30.jpg66850': {'filename': 'image30.jpg', 'size': 66850, 'regions': [{'shape_attributes': {'name': 'polygon', 'all_points_x': [179, 268, 290, 290, 219, 162, 154, 134, 136, 100, 43, 0, 2, 4, 43, 91], 'all_points_y': [247, 277, 338, 426, 567, 651, 759, 872, 965, 1047, 1093, 1079, 924, 218, 203, 206]}, 'region_attributes': {'name': 'gum\\n'}}], 'file_attributes': {}}, 'image31.jpg14340': {'filename': 'image31.jpg', 'size': 14340, 'regions': [{'shape_attributes': {'name': 'polygon', 'all_points_x': [191, 173, 151, 122, 102, 106, 57, 62, 108, 150, 179, 198], 'all_points_y': [132, 119, 116, 117, 137, 156, 167, 183, 178, 175, 175, 142]}, 'region_attributes': {'name': 'tongue\\n'}}], 'file_attributes': {}}, 'image32.jpg77651': {'filename': 'image32.jpg', 'size': 77651, 'regions': [{'shape_attributes': {'name': 'polygon', 'all_points_x': [1027, 1050, 1054, 602, 463, 59, 25, 23, 29, 70, 140, 239, 279, 293], 'all_points_y': [2, 44, 63, 509, 659, 670, 572, 497, 455, 345, 182, 51, 10, -1]}, 'region_attributes': {'name': 'tongue\\n'}}], 'file_attributes': {}}, 'image33.jpg146115': {'filename': 'image33.jpg', 'size': 146115, 'regions': [{'shape_attributes': {'name': 'polygon', 'all_points_x': [436, 386, 337, 285, 246, 218, 184, 191, 226, 262, 297, 338, 382, 430], 'all_points_y': [200, 167, 161, 179, 210, 247, 271, 291, 290, 283, 243, 221, 216, 200]}, 'region_attributes': {'name': 'tongue\\n'}}], 'file_attributes': {}}, 'image34.jpg185841': {'filename': 'image34.jpg', 'size': 185841, 'regions': [{'shape_attributes': {'name': 'polygon', 'all_points_x': [346, 291, 256, 215, 201, 163, 147, 143, 163, 215, 256, 318, 360, 373, 374], 'all_points_y': [235, 186, 134, 130, 155, 168, 145, 106, 83, 67, 49, 64, 74, 79, 231]}, 'region_attributes': {'name': 'tongue\\n'}}], 'file_attributes': {}}, 'image35.jpg176338': {'filename': 'image35.jpg', 'size': 176338, 'regions': [{'shape_attributes': {'name': 'polygon', 'all_points_x': [184, 227, 264, 282, 289, 320, 347, 390, 366, 374, 396, 391, 374, 359, 342, 290, 259, 222, 202], 'all_points_y': [179, 147, 129, 133, 121, 127, 135, 158, 186, 215, 244, 266, 290, 320, 336, 324, 310, 282, 241]}, 'region_attributes': {'name': 'tongue\\n'}}], 'file_attributes': {}}, 'image36.jpg1206396': {'filename': 'image36.jpg', 'size': 1206396, 'regions': [{'shape_attributes': {'name': 'polygon', 'all_points_x': [987, 938, 893, 878, 874, 908, 945, 977], 'all_points_y': [618, 578, 612, 667, 710, 733, 725, 661]}, 'region_attributes': {'name': 'tongue\\n'}}], 'file_attributes': {}}, 'image37.jpg51596': {'filename': 'image37.jpg', 'size': 51596, 'regions': [{'shape_attributes': {'name': 'polygon', 'all_points_x': [403, 366, 342, 322, 302, 289, 301, 221, 222, 212, 194, 187, 188, 198, 218, 229, 269, 298, 336, 362, 390, 417, 437, 446, 420, 396], 'all_points_y': [122, 121, 95, 73, 86, 109, 128, 164, 188, 199, 173, 198, 231, 260, 277, 297, 306, 321, 331, 324, 308, 283, 261, 235, 227, 199]}, 'region_attributes': {'name': 'gum\\n'}}], 'file_attributes': {}}, 'image38.jpg94308': {'filename': 'image38.jpg', 'size': 94308, 'regions': [{'shape_attributes': {'name': 'polygon', 'all_points_x': [262, 294, 320, 346, 379, 416, 430, 476, 545, 576, 578, 558, 538, 506, 491, 461, 407, 367, 338, 303, 263], 'all_points_y': [220, 227, 224, 215, 225, 247, 263, 265, 265, 280, 292, 307, 311, 313, 307, 311, 291, 289, 309, 304, 223]}, 'region_attributes': {'name': 'tongue\\n'}}], 'file_attributes': {}}, 'image39.jpg597187': {'filename': 'image39.jpg', 'size': 597187, 'regions': [{'shape_attributes': {'name': 'polygon', 'all_points_x': [11, 86, 169, 264, 312, 352, 390, 412, 413, 436, 486, 507, 543, 573, 605, 646, 667, 704, 747, 807, 865, 917, 953, 981, 986, 974, 960, 914, 878, 833, 782, 711, 689, 660, 588, 539, 497, 430, 416, 367, 345, 257, 196, 134, 47, 3], 'all_points_y': [269, 358, 406, 399, 406, 424, 412, 413, 446, 453, 450, 460, 452, 460, 479, 413, 347, 257, 191, 185, 193, 225, 275, 373, 468, 493, 570, 580, 604, 637, 623, 645, 662, 655, 659, 664, 686, 713, 739, 754, 738, 771, 783, 761, 696, 657]}, 'region_attributes': {'name': 'tongue\\n'}}], 'file_attributes': {}}, 'image40.jpg1725281': {'filename': 'image40.jpg', 'size': 1725281, 'regions': [{'shape_attributes': {'name': 'polygon', 'all_points_x': [1942, 1933, 1872, 1843, 1886, 1838, 1680, 1539, 1382, 1289, 1255, 1300, 1199, 1126, 1064, 996, 951, 898, 825, 757, 830, 917, 917], 'all_points_y': [1157, 1106, 1112, 1022, 965, 940, 974, 965, 960, 932, 875, 836, 819, 768, 718, 754, 726, 740, 822, 909, 982, 1016, 1078]}, 'region_attributes': {'name': 'tongue\\n'}}], 'file_attributes': {}}, 'image41.jpg76489': {'filename': 'image41.jpg', 'size': 76489, 'regions': [{'shape_attributes': {'name': 'polygon', 'all_points_x': [133, 212, 230, 268, 263, 283, 289, 302, 315, 314, 316, 340, 386, 423, 455, 457, 414, 397, 373, 318, 247, 192, 161, 138, 124, 125], 'all_points_y': [256, 228, 205, 213, 248, 271, 277, 272, 273, 285, 295, 316, 370, 392, 402, 433, 487, 516, 525, 518, 509, 492, 450, 413, 366, 282]}, 'region_attributes': {'name': 'tongue\\n'}}], 'file_attributes': {}}, 'image42.jpg84944': {'filename': 'image42.jpg', 'size': 84944, 'regions': [{'shape_attributes': {'name': 'polygon', 'all_points_x': [169, 246, 257, 270, 258, 245, 248, 257, 262, 283, 278, 240, 212, 194, 198, 181, 177, 165, 169], 'all_points_y': [124, 103, 113, 125, 147, 161, 176, 196, 219, 235, 243, 227, 206, 189, 179, 173, 155, 143, 124]}, 'region_attributes': {'name': 'tongue\\n'}}], 'file_attributes': {}}}, '_via_attributes': {'region': {'name': {'type': 'text', 'description': '', 'default_value': ''}}, 'file': {'filename': {'type': 'text', 'description': '', 'default_value': ''}}}, '_via_data_format_version': '2.0.10', '_via_image_id_list': ['image1.jpg49714', 'image2.jpg56143', 'image3.jpg90779', 'image4.jpg14340', 'image5.jpg133937', 'image6.jpg257318', 'image7.jpg15920', 'image8.jpg83251', 'image9.jpg326528', 'image10.jpg58054', 'image11.jpg176338', 'image12.jpg4071097', 'image13.jpg43120', 'image14.jpg1746971', 'image15.jpg264426', 'image16.jpg76489', 'image17.jpg137547', 'image18.jpg84944', 'image19.jpg1219000', 'image20.jpg135928', 'image21.jpg94308', 'image22.jpg49714', 'image23.jpg133937', 'image24.jpg133937', 'image25.jpg146115', 'image26.jpg597187', 'image27.jpg28567', 'image28.jpg15920', 'image29.jpg90227', 'image30.jpg66850', 'image31.jpg14340', 'image32.jpg77651', 'image33.jpg146115', 'image34.jpg185841', 'image35.jpg176338', 'image36.jpg1206396', 'image37.jpg51596', 'image38.jpg94308', 'image39.jpg597187', 'image40.jpg1725281', 'image41.jpg76489', 'image42.jpg84944']}\n",
            "image1.jpg\n",
            "/content/drive/MyDrive/CS 512 Computer Vision/CS 512_project/data/OralCancer/cancer/image1.jpg\n",
            "301 339\n",
            "{'name': 'polygon', 'all_points_x': [42, 59, 101, 130, 136, 154, 162, 183, 191, 205, 218, 225, 236, 227, 239, 236, 231, 220, 222, 182, 142, 104, 56, 47, 24, 18, 34, 50], 'all_points_y': [131, 147, 152, 151, 143, 140, 160, 155, 143, 122, 123, 136, 153, 173, 193, 208, 217, 222, 229, 235, 251, 261, 251, 243, 191, 161, 143, 139]}\n",
            "/content/drive/MyDrive/CS 512 Computer Vision/CS 512_project/data/OralCancer/masks\n",
            "image2.jpg\n",
            "/content/drive/MyDrive/CS 512 Computer Vision/CS 512_project/data/OralCancer/cancer/image2.jpg\n",
            "825 1100\n",
            "{'name': 'polygon', 'all_points_x': [463, 521, 560, 611, 632, 641, 645, 644, 631, 611, 606, 597, 578, 559, 545, 519, 500, 488, 476, 463], 'all_points_y': [342, 333, 339, 355, 368, 387, 407, 413, 408, 402, 420, 428, 432, 423, 411, 410, 402, 377, 363, 342]}\n",
            "/content/drive/MyDrive/CS 512 Computer Vision/CS 512_project/data/OralCancer/masks\n",
            "image3.jpg\n",
            "/content/drive/MyDrive/CS 512 Computer Vision/CS 512_project/data/OralCancer/cancer/image3.jpg\n",
            "960 1280\n",
            "{'name': 'polygon', 'all_points_x': [664, 666, 645, 631, 624, 614, 595, 578, 565, 572, 579, 583, 596, 618, 639, 656, 662], 'all_points_y': [627, 639, 632, 635, 635, 627, 628, 635, 641, 609, 585, 568, 560, 550, 557, 574, 597]}\n",
            "/content/drive/MyDrive/CS 512 Computer Vision/CS 512_project/data/OralCancer/masks\n",
            "image4.jpg\n",
            "/content/drive/MyDrive/CS 512 Computer Vision/CS 512_project/data/OralCancer/cancer/image4.jpg\n",
            "312 380\n",
            "{'name': 'polygon', 'all_points_x': [162, 120, 105, 103, 125, 149, 172, 190, 195, 201, 202, 197, 197, 185, 165], 'all_points_y': [115, 128, 153, 165, 169, 166, 171, 180, 183, 163, 155, 146, 132, 121, 111]}\n",
            "/content/drive/MyDrive/CS 512 Computer Vision/CS 512_project/data/OralCancer/masks\n",
            "image5.jpg\n",
            "/content/drive/MyDrive/CS 512 Computer Vision/CS 512_project/data/OralCancer/cancer/image5.jpg\n",
            "810 1200\n",
            "{'name': 'polygon', 'all_points_x': [482, 601, 643, 649, 662, 657, 632, 618, 602, 582, 553, 528, 506, 488, 471, 462, 492], 'all_points_y': [314, 267, 318, 371, 404, 426, 451, 479, 490, 484, 457, 447, 437, 410, 366, 320, 310]}\n",
            "/content/drive/MyDrive/CS 512 Computer Vision/CS 512_project/data/OralCancer/masks\n",
            "image6.jpg\n",
            "/content/drive/MyDrive/CS 512 Computer Vision/CS 512_project/data/OralCancer/cancer/image6.jpg\n",
            "557 744\n",
            "{'name': 'polygon', 'all_points_x': [250, 215, 172, 133, 99, 46, 45, 27, 26, 24, 47, 46, 58, 82, 91, 106, 126, 138, 150, 158, 170, 187, 205, 250, 252, 247, 250], 'all_points_y': [133, 108, 107, 114, 130, 195, 211, 211, 255, 266, 282, 303, 319, 320, 315, 317, 310, 303, 300, 303, 292, 284, 275, 216, 201, 177, 134]}\n",
            "/content/drive/MyDrive/CS 512 Computer Vision/CS 512_project/data/OralCancer/masks\n",
            "image7.jpg\n",
            "/content/drive/MyDrive/CS 512 Computer Vision/CS 512_project/data/OralCancer/cancer/image7.jpg\n",
            "237 354\n",
            "{'name': 'polygon', 'all_points_x': [36, 72, 105, 130, 134, 140, 140, 138, 141, 148, 135, 121, 106, 88, 76, 61, 56, 42, 37], 'all_points_y': [77, 54, 44, 42, 59, 71, 78, 99, 119, 131, 131, 127, 130, 127, 129, 132, 130, 98, 78]}\n",
            "/content/drive/MyDrive/CS 512 Computer Vision/CS 512_project/data/OralCancer/masks\n",
            "image8.jpg\n",
            "/content/drive/MyDrive/CS 512 Computer Vision/CS 512_project/data/OralCancer/cancer/image8.jpg\n",
            "1152 864\n",
            "{'name': 'polygon', 'all_points_x': [514, 454, 430, 385, 375, 390, 390, 377, 300, 288, 244, 231, 221, 231, 270, 305, 338, 367, 393, 420, 439, 435, 442, 462, 492, 492, 506, 517, 514], 'all_points_y': [680, 628, 621, 628, 633, 645, 655, 653, 655, 661, 695, 713, 747, 767, 777, 779, 775, 767, 775, 775, 777, 755, 743, 737, 727, 708, 695, 681, 681]}\n",
            "/content/drive/MyDrive/CS 512 Computer Vision/CS 512_project/data/OralCancer/masks\n",
            "image9.jpg\n",
            "/content/drive/MyDrive/CS 512 Computer Vision/CS 512_project/data/OralCancer/cancer/image9.jpg\n",
            "415 620\n",
            "{'name': 'polygon', 'all_points_x': [328, 323, 314, 296, 264, 237, 215, 206, 210, 221, 236, 242, 261, 287, 315, 334, 327], 'all_points_y': [227, 210, 199, 191, 198, 206, 205, 214, 225, 235, 239, 251, 263, 269, 264, 258, 226]}\n",
            "/content/drive/MyDrive/CS 512 Computer Vision/CS 512_project/data/OralCancer/masks\n",
            "image10.jpg\n",
            "/content/drive/MyDrive/CS 512 Computer Vision/CS 512_project/data/OralCancer/cancer/image10.jpg\n",
            "1280 622\n",
            "{'name': 'polygon', 'all_points_x': [607, 520, 456, 421, 404, 382, 372, 313, 272, 246, 240, 227, 229, 229, 235, 253, 259, 272, 292, 333, 374, 406, 425, 488, 540, 579, 605], 'all_points_y': [553, 557, 557, 549, 505, 384, 350, 337, 326, 385, 445, 494, 536, 562, 579, 602, 650, 676, 713, 736, 732, 721, 698, 669, 659, 603, 557]}\n",
            "/content/drive/MyDrive/CS 512 Computer Vision/CS 512_project/data/OralCancer/masks\n",
            "image11.jpg\n",
            "/content/drive/MyDrive/CS 512 Computer Vision/CS 512_project/data/OralCancer/cancer/image11.jpg\n",
            "415 620\n",
            "{'name': 'polygon', 'all_points_x': [197, 218, 244, 286, 305, 347, 392, 411, 430, 434, 387, 354, 307, 267, 228, 214, 202, 195], 'all_points_y': [185, 155, 140, 132, 132, 144, 183, 224, 248, 263, 298, 335, 325, 315, 277, 252, 215, 189]}\n",
            "/content/drive/MyDrive/CS 512 Computer Vision/CS 512_project/data/OralCancer/masks\n",
            "image12.jpg\n",
            "/content/drive/MyDrive/CS 512 Computer Vision/CS 512_project/data/OralCancer/cancer/image12.jpg\n",
            "2166 3198\n",
            "{'name': 'polygon', 'all_points_x': [412, 601, 699, 765, 866, 966, 1130, 1221, 1438, 1643, 1832, 2077, 2184, 2367, 2465, 2628, 2660, 2688, 2808, 2930, 2990, 2943, 2927, 2852, 2663, 2565, 2386, 2263, 1026, 847, 557, 507, 475, 365, 170, 186, 409], 'all_points_y': [82, 375, 516, 589, 689, 768, 891, 957, 1051, 1105, 1130, 1048, 995, 853, 702, 431, 261, 120, 201, 261, 305, 516, 718, 1001, 1328, 1467, 1599, 1615, 1618, 1492, 1287, 1187, 1026, 891, 444, 283, 82]}\n",
            "/content/drive/MyDrive/CS 512 Computer Vision/CS 512_project/data/OralCancer/masks\n",
            "image13.jpg\n",
            "/content/drive/MyDrive/CS 512 Computer Vision/CS 512_project/data/OralCancer/cancer/image13.jpg\n",
            "400 600\n",
            "{'name': 'polygon', 'all_points_x': [262, 319, 350, 384, 406, 447, 498, 506, 450, 422, 388, 345, 304, 289, 270, 261], 'all_points_y': [267, 262, 271, 272, 294, 289, 279, 292, 341, 355, 365, 354, 335, 315, 319, 269]}\n",
            "/content/drive/MyDrive/CS 512 Computer Vision/CS 512_project/data/OralCancer/masks\n",
            "image14.jpg\n",
            "/content/drive/MyDrive/CS 512 Computer Vision/CS 512_project/data/OralCancer/cancer/image14.jpg\n",
            "4032 3024\n",
            "{'name': 'polygon', 'all_points_x': [1805, 1682, 1641, 1600, 1553, 1500, 1395, 1330, 1360, 1283, 1190, 1207, 1184, 1160, 1207, 1348, 1500, 1664, 1787, 1864, 1934, 1934, 1869, 1799], 'all_points_y': [1201, 1231, 1307, 1354, 1330, 1319, 1371, 1442, 1524, 1547, 1600, 1717, 1834, 1928, 2022, 2039, 2034, 1998, 1928, 1799, 1653, 1500, 1324, 1190]}\n",
            "/content/drive/MyDrive/CS 512 Computer Vision/CS 512_project/data/OralCancer/masks\n",
            "image15.jpg\n",
            "/content/drive/MyDrive/CS 512 Computer Vision/CS 512_project/data/OralCancer/cancer/image15.jpg\n",
            "522 458\n",
            "{'name': 'polygon', 'all_points_x': [321, 275, 248, 215, 184, 166, 182, 191, 196, 216, 259, 294, 346, 395, 426, 447, 454, 439, 420, 392, 338, 322], 'all_points_y': [160, 180, 189, 222, 255, 283, 311, 346, 379, 391, 391, 378, 356, 331, 293, 268, 239, 191, 178, 163, 159, 160]}\n",
            "/content/drive/MyDrive/CS 512 Computer Vision/CS 512_project/data/OralCancer/masks\n",
            "image16.jpg\n",
            "/content/drive/MyDrive/CS 512 Computer Vision/CS 512_project/data/OralCancer/cancer/image16.jpg\n",
            "726 850\n",
            "{'name': 'polygon', 'all_points_x': [140, 179, 221, 260, 275, 302, 318, 342, 416, 443, 452, 447, 430, 348, 297, 238, 197, 158, 139, 124, 124, 141], 'all_points_y': [252, 227, 224, 240, 262, 269, 270, 326, 397, 398, 414, 441, 496, 523, 522, 506, 484, 442, 404, 353, 293, 251]}\n",
            "/content/drive/MyDrive/CS 512 Computer Vision/CS 512_project/data/OralCancer/masks\n",
            "image17.jpg\n",
            "/content/drive/MyDrive/CS 512 Computer Vision/CS 512_project/data/OralCancer/cancer/image17.jpg\n",
            "1280 913\n",
            "{'name': 'polygon', 'all_points_x': [556, 498, 385, 376, 346, 331, 417, 472, 461, 441, 467, 470, 454, 467, 465, 483, 480, 496, 495, 515, 532, 554], 'all_points_y': [734, 753, 708, 623, 515, 457, 379, 405, 459, 474, 491, 513, 524, 543, 569, 578, 601, 617, 653, 664, 690, 731]}\n",
            "/content/drive/MyDrive/CS 512 Computer Vision/CS 512_project/data/OralCancer/masks\n",
            "image18.jpg\n",
            "/content/drive/MyDrive/CS 512 Computer Vision/CS 512_project/data/OralCancer/cancer/image18.jpg\n",
            "333 500\n",
            "{'name': 'polygon', 'all_points_x': [166, 248, 266, 301, 342, 342, 362, 390, 390, 394, 402, 406, 406, 390, 358, 289, 258, 225, 191, 186, 175, 166, 166], 'all_points_y': [114, 95, 109, 123, 127, 115, 113, 118, 131, 156, 195, 222, 246, 257, 263, 248, 235, 216, 189, 175, 159, 139, 115]}\n",
            "/content/drive/MyDrive/CS 512 Computer Vision/CS 512_project/data/OralCancer/masks\n",
            "image19.jpg\n",
            "/content/drive/MyDrive/CS 512 Computer Vision/CS 512_project/data/OralCancer/cancer/image19.jpg\n",
            "887 850\n",
            "{'name': 'polygon', 'all_points_x': [214, 262, 322, 339, 390, 433, 464, 468, 462, 419, 338, 312, 286, 241, 214, 190, 184, 221], 'all_points_y': [422, 446, 479, 489, 494, 516, 547, 600, 647, 649, 644, 615, 582, 562, 546, 511, 466, 422]}\n",
            "/content/drive/MyDrive/CS 512 Computer Vision/CS 512_project/data/OralCancer/masks\n",
            "image20.jpg\n",
            "/content/drive/MyDrive/CS 512 Computer Vision/CS 512_project/data/OralCancer/cancer/image20.jpg\n",
            "1066 740\n",
            "{'name': 'polygon', 'all_points_x': [200, 200, 215, 237, 260, 282, 286, 282, 226, 198], 'all_points_y': [277, 255, 243, 240, 226, 234, 257, 289, 291, 288]}\n",
            "{'name': 'polygon', 'all_points_x': [331, 334, 393, 449, 441, 413, 341], 'all_points_y': [286, 232, 240, 259, 283, 296, 289]}\n",
            "{'name': 'polygon', 'all_points_x': [229, 197, 183, 192, 201, 235, 282, 350, 395, 426, 444, 449, 427, 393, 378, 337, 307, 276, 254, 243, 235], 'all_points_y': [192, 190, 212, 163, 132, 104, 88, 81, 90, 124, 159, 178, 180, 128, 113, 115, 113, 110, 124, 146, 186]}\n",
            "/content/drive/MyDrive/CS 512 Computer Vision/CS 512_project/data/OralCancer/masks\n",
            "image21.jpg\n",
            "/content/drive/MyDrive/CS 512 Computer Vision/CS 512_project/data/OralCancer/cancer/image21.jpg\n",
            "536 742\n",
            "{'name': 'polygon', 'all_points_x': [306, 332, 324, 317, 339, 381, 410, 422, 418, 389, 372, 342, 312], 'all_points_y': [191, 223, 243, 268, 287, 288, 286, 268, 257, 231, 227, 214, 190]}\n",
            "/content/drive/MyDrive/CS 512 Computer Vision/CS 512_project/data/OralCancer/masks\n",
            "image22.jpg\n",
            "/content/drive/MyDrive/CS 512 Computer Vision/CS 512_project/data/OralCancer/cancer/image22.jpg\n",
            "301 339\n",
            "{'name': 'polygon', 'all_points_x': [94, 118, 143, 155, 163, 187, 203, 248, 249, 246, 228, 232, 231, 224, 236, 242, 234, 222, 188, 175, 147, 126, 91, 66, 49, 37, 21, 17, 39, 51, 45, 43, 54, 73, 91], 'all_points_y': [64, 59, 60, 67, 75, 71, 67, 89, 102, 117, 118, 139, 159, 174, 185, 200, 210, 223, 227, 236, 250, 255, 260, 254, 246, 223, 188, 158, 142, 138, 130, 119, 103, 81, 67]}\n",
            "/content/drive/MyDrive/CS 512 Computer Vision/CS 512_project/data/OralCancer/masks\n",
            "image23.jpg\n",
            "/content/drive/MyDrive/CS 512 Computer Vision/CS 512_project/data/OralCancer/cancer/image23.jpg\n",
            "810 1200\n",
            "{'name': 'polygon', 'all_points_x': [479, 529, 585, 617, 636, 658, 688, 709, 741, 748, 714, 681, 657, 632, 601, 563, 532, 506, 482, 468, 459, 480], 'all_points_y': [310, 291, 272, 259, 306, 356, 406, 473, 548, 589, 598, 591, 564, 517, 489, 455, 447, 435, 404, 371, 333, 314]}\n",
            "/content/drive/MyDrive/CS 512 Computer Vision/CS 512_project/data/OralCancer/masks\n",
            "image24.jpg\n",
            "/content/drive/MyDrive/CS 512 Computer Vision/CS 512_project/data/OralCancer/cancer/image24.jpg\n",
            "810 1200\n",
            "{'name': 'polygon', 'all_points_x': [482, 555, 602, 657, 677, 711, 730, 742, 741, 697, 676, 656, 626, 596, 583, 539, 506, 488, 469, 465, 492], 'all_points_y': [319, 281, 263, 333, 379, 453, 523, 588, 605, 602, 602, 551, 525, 488, 464, 450, 433, 406, 359, 319, 311]}\n",
            "/content/drive/MyDrive/CS 512 Computer Vision/CS 512_project/data/OralCancer/masks\n",
            "image25.jpg\n",
            "/content/drive/MyDrive/CS 512 Computer Vision/CS 512_project/data/OralCancer/cancer/image25.jpg\n",
            "556 738\n",
            "{'name': 'polygon', 'all_points_x': [252, 302, 325, 367, 390, 421, 458, 455, 432, 409, 402, 375, 364, 326, 283, 258], 'all_points_y': [258, 220, 196, 165, 173, 184, 221, 232, 233, 243, 251, 258, 253, 257, 256, 259]}\n",
            "/content/drive/MyDrive/CS 512 Computer Vision/CS 512_project/data/OralCancer/masks\n",
            "image26.jpg\n",
            "/content/drive/MyDrive/CS 512 Computer Vision/CS 512_project/data/OralCancer/cancer/image26.jpg\n",
            "950 1105\n",
            "{'name': 'polygon', 'all_points_x': [10, 99, 180, 265, 395, 588, 635, 698, 775, 840, 881, 952, 982, 983, 974, 964, 905, 855, 825, 754, 699, 645, 572, 494, 435, 384, 329, 233, 142, 33, 7], 'all_points_y': [247, 282, 319, 396, 413, 452, 312, 233, 184, 182, 192, 264, 376, 471, 541, 569, 587, 619, 633, 624, 651, 656, 662, 682, 699, 700, 669, 619, 557, 501, 467]}\n",
            "/content/drive/MyDrive/CS 512 Computer Vision/CS 512_project/data/OralCancer/masks\n",
            "image27.jpg\n",
            "/content/drive/MyDrive/CS 512 Computer Vision/CS 512_project/data/OralCancer/cancer/image27.jpg\n",
            "190 280\n",
            "{'name': 'polygon', 'all_points_x': [268, 223, 182, 136, 125, 104, 81, 63, 31, 16, 19, 39, 77, 138, 191, 255, 278], 'all_points_y': [62, 63, 65, 71, 59, 58, 67, 93, 120, 136, 155, 171, 171, 160, 147, 109, 82]}\n",
            "/content/drive/MyDrive/CS 512 Computer Vision/CS 512_project/data/OralCancer/masks\n",
            "image28.jpg\n",
            "/content/drive/MyDrive/CS 512 Computer Vision/CS 512_project/data/OralCancer/cancer/image28.jpg\n",
            "237 354\n",
            "{'name': 'polygon', 'all_points_x': [250, 241, 199, 193, 170, 137, 122, 111, 95, 81, 74, 60, 52, 53, 58, 82, 104, 143, 246], 'all_points_y': [120, 134, 144, 157, 155, 144, 140, 134, 137, 136, 129, 129, 125, 117, 111, 102, 103, 101, 120]}\n",
            "/content/drive/MyDrive/CS 512 Computer Vision/CS 512_project/data/OralCancer/masks\n",
            "image29.jpg\n",
            "/content/drive/MyDrive/CS 512 Computer Vision/CS 512_project/data/OralCancer/cancer/image29.jpg\n",
            "834 1233\n",
            "{'name': 'polygon', 'all_points_x': [1091, 1114, 1153, 1137, 1092, 1045, 986, 940, 874, 828, 811, 774, 696, 643, 555, 486, 469, 405, 381, 401, 377, 390, 434, 473, 490, 529, 575, 633, 684, 743, 780, 812, 866, 924], 'all_points_y': [320, 331, 329, 353, 400, 440, 507, 542, 556, 537, 526, 533, 543, 550, 547, 559, 523, 515, 475, 453, 440, 409, 348, 303, 343, 327, 333, 338, 343, 337, 348, 372, 364, 343]}\n",
            "/content/drive/MyDrive/CS 512 Computer Vision/CS 512_project/data/OralCancer/masks\n",
            "image30.jpg\n",
            "/content/drive/MyDrive/CS 512 Computer Vision/CS 512_project/data/OralCancer/cancer/image30.jpg\n",
            "1280 755\n",
            "{'name': 'polygon', 'all_points_x': [179, 268, 290, 290, 219, 162, 154, 134, 136, 100, 43, 0, 2, 4, 43, 91], 'all_points_y': [247, 277, 338, 426, 567, 651, 759, 872, 965, 1047, 1093, 1079, 924, 218, 203, 206]}\n",
            "/content/drive/MyDrive/CS 512 Computer Vision/CS 512_project/data/OralCancer/masks\n",
            "image31.jpg\n",
            "/content/drive/MyDrive/CS 512 Computer Vision/CS 512_project/data/OralCancer/cancer/image31.jpg\n",
            "312 380\n",
            "{'name': 'polygon', 'all_points_x': [191, 173, 151, 122, 102, 106, 57, 62, 108, 150, 179, 198], 'all_points_y': [132, 119, 116, 117, 137, 156, 167, 183, 178, 175, 175, 142]}\n",
            "/content/drive/MyDrive/CS 512 Computer Vision/CS 512_project/data/OralCancer/masks\n",
            "image32.jpg\n",
            "/content/drive/MyDrive/CS 512 Computer Vision/CS 512_project/data/OralCancer/cancer/image32.jpg\n",
            "675 1080\n",
            "{'name': 'polygon', 'all_points_x': [1027, 1050, 1054, 602, 463, 59, 25, 23, 29, 70, 140, 239, 279, 293], 'all_points_y': [2, 44, 63, 509, 659, 670, 572, 497, 455, 345, 182, 51, 10, -1]}\n",
            "/content/drive/MyDrive/CS 512 Computer Vision/CS 512_project/data/OralCancer/masks\n",
            "image33.jpg\n",
            "/content/drive/MyDrive/CS 512 Computer Vision/CS 512_project/data/OralCancer/cancer/image33.jpg\n",
            "556 738\n",
            "{'name': 'polygon', 'all_points_x': [436, 386, 337, 285, 246, 218, 184, 191, 226, 262, 297, 338, 382, 430], 'all_points_y': [200, 167, 161, 179, 210, 247, 271, 291, 290, 283, 243, 221, 216, 200]}\n",
            "/content/drive/MyDrive/CS 512 Computer Vision/CS 512_project/data/OralCancer/masks\n",
            "image34.jpg\n",
            "/content/drive/MyDrive/CS 512 Computer Vision/CS 512_project/data/OralCancer/cancer/image34.jpg\n",
            "279 375\n",
            "{'name': 'polygon', 'all_points_x': [346, 291, 256, 215, 201, 163, 147, 143, 163, 215, 256, 318, 360, 373, 374], 'all_points_y': [235, 186, 134, 130, 155, 168, 145, 106, 83, 67, 49, 64, 74, 79, 231]}\n",
            "/content/drive/MyDrive/CS 512 Computer Vision/CS 512_project/data/OralCancer/masks\n",
            "image35.jpg\n",
            "/content/drive/MyDrive/CS 512 Computer Vision/CS 512_project/data/OralCancer/cancer/image35.jpg\n",
            "415 620\n",
            "{'name': 'polygon', 'all_points_x': [184, 227, 264, 282, 289, 320, 347, 390, 366, 374, 396, 391, 374, 359, 342, 290, 259, 222, 202], 'all_points_y': [179, 147, 129, 133, 121, 127, 135, 158, 186, 215, 244, 266, 290, 320, 336, 324, 310, 282, 241]}\n",
            "/content/drive/MyDrive/CS 512 Computer Vision/CS 512_project/data/OralCancer/masks\n",
            "image36.jpg\n",
            "/content/drive/MyDrive/CS 512 Computer Vision/CS 512_project/data/OralCancer/cancer/image36.jpg\n",
            "1296 1936\n",
            "{'name': 'polygon', 'all_points_x': [987, 938, 893, 878, 874, 908, 945, 977], 'all_points_y': [618, 578, 612, 667, 710, 733, 725, 661]}\n",
            "/content/drive/MyDrive/CS 512 Computer Vision/CS 512_project/data/OralCancer/masks\n",
            "image37.jpg\n",
            "/content/drive/MyDrive/CS 512 Computer Vision/CS 512_project/data/OralCancer/cancer/image37.jpg\n",
            "406 635\n",
            "{'name': 'polygon', 'all_points_x': [403, 366, 342, 322, 302, 289, 301, 221, 222, 212, 194, 187, 188, 198, 218, 229, 269, 298, 336, 362, 390, 417, 437, 446, 420, 396], 'all_points_y': [122, 121, 95, 73, 86, 109, 128, 164, 188, 199, 173, 198, 231, 260, 277, 297, 306, 321, 331, 324, 308, 283, 261, 235, 227, 199]}\n",
            "/content/drive/MyDrive/CS 512 Computer Vision/CS 512_project/data/OralCancer/masks\n",
            "image38.jpg\n",
            "/content/drive/MyDrive/CS 512 Computer Vision/CS 512_project/data/OralCancer/cancer/image38.jpg\n",
            "536 742\n",
            "{'name': 'polygon', 'all_points_x': [262, 294, 320, 346, 379, 416, 430, 476, 545, 576, 578, 558, 538, 506, 491, 461, 407, 367, 338, 303, 263], 'all_points_y': [220, 227, 224, 215, 225, 247, 263, 265, 265, 280, 292, 307, 311, 313, 307, 311, 291, 289, 309, 304, 223]}\n",
            "/content/drive/MyDrive/CS 512 Computer Vision/CS 512_project/data/OralCancer/masks\n",
            "image39.jpg\n",
            "/content/drive/MyDrive/CS 512 Computer Vision/CS 512_project/data/OralCancer/cancer/image39.jpg\n",
            "950 1105\n",
            "{'name': 'polygon', 'all_points_x': [11, 86, 169, 264, 312, 352, 390, 412, 413, 436, 486, 507, 543, 573, 605, 646, 667, 704, 747, 807, 865, 917, 953, 981, 986, 974, 960, 914, 878, 833, 782, 711, 689, 660, 588, 539, 497, 430, 416, 367, 345, 257, 196, 134, 47, 3], 'all_points_y': [269, 358, 406, 399, 406, 424, 412, 413, 446, 453, 450, 460, 452, 460, 479, 413, 347, 257, 191, 185, 193, 225, 275, 373, 468, 493, 570, 580, 604, 637, 623, 645, 662, 655, 659, 664, 686, 713, 739, 754, 738, 771, 783, 761, 696, 657]}\n",
            "/content/drive/MyDrive/CS 512 Computer Vision/CS 512_project/data/OralCancer/masks\n",
            "image40.jpg\n",
            "/content/drive/MyDrive/CS 512 Computer Vision/CS 512_project/data/OralCancer/cancer/image40.jpg\n",
            "1936 2592\n",
            "{'name': 'polygon', 'all_points_x': [1942, 1933, 1872, 1843, 1886, 1838, 1680, 1539, 1382, 1289, 1255, 1300, 1199, 1126, 1064, 996, 951, 898, 825, 757, 830, 917, 917], 'all_points_y': [1157, 1106, 1112, 1022, 965, 940, 974, 965, 960, 932, 875, 836, 819, 768, 718, 754, 726, 740, 822, 909, 982, 1016, 1078]}\n",
            "/content/drive/MyDrive/CS 512 Computer Vision/CS 512_project/data/OralCancer/masks\n",
            "image41.jpg\n",
            "/content/drive/MyDrive/CS 512 Computer Vision/CS 512_project/data/OralCancer/cancer/image41.jpg\n",
            "726 850\n",
            "{'name': 'polygon', 'all_points_x': [133, 212, 230, 268, 263, 283, 289, 302, 315, 314, 316, 340, 386, 423, 455, 457, 414, 397, 373, 318, 247, 192, 161, 138, 124, 125], 'all_points_y': [256, 228, 205, 213, 248, 271, 277, 272, 273, 285, 295, 316, 370, 392, 402, 433, 487, 516, 525, 518, 509, 492, 450, 413, 366, 282]}\n",
            "/content/drive/MyDrive/CS 512 Computer Vision/CS 512_project/data/OralCancer/masks\n",
            "image42.jpg\n",
            "/content/drive/MyDrive/CS 512 Computer Vision/CS 512_project/data/OralCancer/cancer/image42.jpg\n",
            "333 500\n",
            "{'name': 'polygon', 'all_points_x': [169, 246, 257, 270, 258, 245, 248, 257, 262, 283, 278, 240, 212, 194, 198, 181, 177, 165, 169], 'all_points_y': [124, 103, 113, 125, 147, 161, 176, 196, 219, 235, 243, 227, 206, 189, 179, 173, 155, 143, 124]}\n",
            "/content/drive/MyDrive/CS 512 Computer Vision/CS 512_project/data/OralCancer/masks\n"
          ]
        }
      ]
    },
    {
      "cell_type": "code",
      "source": [
        "import json\n",
        "import os\n",
        "\n",
        "with f_ef as f:\n",
        "    data = json.load(f)\n",
        "\n",
        "label_set = set()\n",
        "\n",
        "for img_data in data.values():\n",
        "    regions = img_data['regions']\n",
        "    for region in regions:\n",
        "        label_set.add(region['region_attributes']['name'])\n",
        "\n",
        "label_names = list(label_set)\n",
        "print(label_names)\n"
      ],
      "metadata": {
        "id": "Ov1gQPbFMXf0",
        "colab": {
          "base_uri": "https://localhost:8080/",
          "height": 235
        },
        "outputId": "5845b16f-f465-47cd-b0bc-e74394d49942"
      },
      "execution_count": null,
      "outputs": [
        {
          "output_type": "error",
          "ename": "KeyError",
          "evalue": "ignored",
          "traceback": [
            "\u001b[0;31m---------------------------------------------------------------------------\u001b[0m",
            "\u001b[0;31mKeyError\u001b[0m                                  Traceback (most recent call last)",
            "\u001b[0;32m<ipython-input-7-f247ae4ade7b>\u001b[0m in \u001b[0;36m<cell line: 9>\u001b[0;34m()\u001b[0m\n\u001b[1;32m      8\u001b[0m \u001b[0;34m\u001b[0m\u001b[0m\n\u001b[1;32m      9\u001b[0m \u001b[0;32mfor\u001b[0m \u001b[0mimg_data\u001b[0m \u001b[0;32min\u001b[0m \u001b[0mdata\u001b[0m\u001b[0;34m.\u001b[0m\u001b[0mvalues\u001b[0m\u001b[0;34m(\u001b[0m\u001b[0;34m)\u001b[0m\u001b[0;34m:\u001b[0m\u001b[0;34m\u001b[0m\u001b[0;34m\u001b[0m\u001b[0m\n\u001b[0;32m---> 10\u001b[0;31m     \u001b[0mregions\u001b[0m \u001b[0;34m=\u001b[0m \u001b[0mimg_data\u001b[0m\u001b[0;34m[\u001b[0m\u001b[0;34m'regions'\u001b[0m\u001b[0;34m]\u001b[0m\u001b[0;34m\u001b[0m\u001b[0;34m\u001b[0m\u001b[0m\n\u001b[0m\u001b[1;32m     11\u001b[0m     \u001b[0;32mfor\u001b[0m \u001b[0mregion\u001b[0m \u001b[0;32min\u001b[0m \u001b[0mregions\u001b[0m\u001b[0;34m:\u001b[0m\u001b[0;34m\u001b[0m\u001b[0;34m\u001b[0m\u001b[0m\n\u001b[1;32m     12\u001b[0m         \u001b[0mlabel_set\u001b[0m\u001b[0;34m.\u001b[0m\u001b[0madd\u001b[0m\u001b[0;34m(\u001b[0m\u001b[0mregion\u001b[0m\u001b[0;34m[\u001b[0m\u001b[0;34m'region_attributes'\u001b[0m\u001b[0;34m]\u001b[0m\u001b[0;34m[\u001b[0m\u001b[0;34m'name'\u001b[0m\u001b[0;34m]\u001b[0m\u001b[0;34m)\u001b[0m\u001b[0;34m\u001b[0m\u001b[0;34m\u001b[0m\u001b[0m\n",
            "\u001b[0;31mKeyError\u001b[0m: 'regions'"
          ]
        }
      ]
    }
  ]
}